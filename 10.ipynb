{
 "cells": [
  {
   "cell_type": "code",
   "execution_count": 11,
   "metadata": {},
   "outputs": [
    {
     "name": "stdout",
     "output_type": "stream",
     "text": [
      "0x18\n",
      "0o30\n",
      "0b11000\n",
      "81\n",
      "1\n",
      "4.2\n"
     ]
    },
    {
     "data": {
      "text/plain": [
       "34.57"
      ]
     },
     "execution_count": 11,
     "metadata": {},
     "output_type": "execute_result"
    }
   ],
   "source": [
    "print(hex(24))\n",
    "print(oct(24))\n",
    "print(bin(24))\n",
    "print(pow(3,4))\n",
    "print(pow(5,3,2)) # mode of 2\n",
    "print(abs(-4.2))\n",
    "round(34.56773,2)"
   ]
  },
  {
   "cell_type": "code",
   "execution_count": 15,
   "metadata": {},
   "outputs": [
    {
     "name": "stdout",
     "output_type": "stream",
     "text": [
      "3\n",
      "2\n",
      "zzzzzzzzzHello worldzzzzzzzzzz\n",
      "         Hello world          \n"
     ]
    }
   ],
   "source": [
    "s = \"Hello world\"\n",
    "print(s.count('l'))\n",
    "print(s.find('l'))\n",
    "print(s.center(30,'z'))\n",
    "print(s.center(30,' '))"
   ]
  },
  {
   "cell_type": "markdown",
   "metadata": {},
   "source": [
    " We can use **partition()** to return a tuple that includes the first occurrence of the separator sandwiched between the first half and the end half."
   ]
  },
  {
   "cell_type": "code",
   "execution_count": 16,
   "metadata": {},
   "outputs": [
    {
     "data": {
      "text/plain": [
       "('He', 'l', 'lo world')"
      ]
     },
     "execution_count": 16,
     "metadata": {},
     "output_type": "execute_result"
    }
   ],
   "source": [
    "s.partition('l')"
   ]
  },
  {
   "cell_type": "code",
   "execution_count": 24,
   "metadata": {},
   "outputs": [
    {
     "name": "stdout",
     "output_type": "stream",
     "text": [
      "{3, 4, 5, 6, 'jaber'}\n",
      "set()\n"
     ]
    }
   ],
   "source": [
    "x = set()\n",
    "x.add(5)\n",
    "x.add(\"jaber\")\n",
    "x.add(5)\n",
    "x.add(3)\n",
    "x.add(4)\n",
    "x.add(5)\n",
    "x.add(6)\n",
    "print(x)\n",
    "x.clear()\n",
    "print(x)"
   ]
  },
  {
   "cell_type": "code",
   "execution_count": 46,
   "metadata": {},
   "outputs": [
    {
     "name": "stdout",
     "output_type": "stream",
     "text": [
      "{1, 'jaber', 3, 4}\n",
      "{11, 'Santa Barbara'}\n"
     ]
    }
   ],
   "source": [
    "x = {\"jaber\",1,4,3}\n",
    "copy = x.copy()\n",
    "print(copy)\n",
    "x.add(11)\n",
    "x.add(\"Santa Barbara\")\n",
    "copy.add(7)\n",
    "print(x.difference(copy)) # Pay attention to this function. It's\n",
    "# not a good way to find the difference, it merely does a subtraction\n",
    "# if you switch the argument with the container, the answer would be\n",
    "# totally different"
   ]
  },
  {
   "cell_type": "markdown",
   "metadata": {},
   "source": [
    "## difference_update\n",
    "difference_update syntax is:\n",
    "\n",
    "    set1.difference_update(set2)\n",
    "the method returns set1 after removing elements found in set2"
   ]
  },
  {
   "cell_type": "code",
   "execution_count": 47,
   "metadata": {},
   "outputs": [
    {
     "name": "stdout",
     "output_type": "stream",
     "text": [
      "{1, 3, 4, 'jaber', 11, 'Santa Barbara'}\n",
      "{11, 'Santa Barbara'}\n"
     ]
    }
   ],
   "source": [
    "print(x)\n",
    "x.difference_update(copy)\n",
    "print(x)"
   ]
  },
  {
   "cell_type": "code",
   "execution_count": 48,
   "metadata": {},
   "outputs": [
    {
     "name": "stdout",
     "output_type": "stream",
     "text": [
      "{'Santa Barbara'}\n"
     ]
    }
   ],
   "source": [
    "x.discard(11)\n",
    "print(x)"
   ]
  },
  {
   "cell_type": "markdown",
   "metadata": {},
   "source": [
    "# set in python has all of the functions of set in algebra\n",
    "* Intersection\n",
    "* Issuperset\n",
    "* Isdisjoint\n",
    "* Symmetric, uniion, update etc \n",
    "### It is a good tool for solving many algorithm problems like Kruskal etc"
   ]
  },
  {
   "cell_type": "code",
   "execution_count": 49,
   "metadata": {},
   "outputs": [
    {
     "data": {
      "text/plain": [
       "{0: 0, 1: 1, 2: 4, 3: 9, 4: 16, 5: 25, 6: 36, 7: 49, 8: 64, 9: 81}"
      ]
     },
     "execution_count": 49,
     "metadata": {},
     "output_type": "execute_result"
    }
   ],
   "source": [
    "{x:x**2 for x in range(10)}"
   ]
  },
  {
   "cell_type": "code",
   "execution_count": 53,
   "metadata": {},
   "outputs": [
    {
     "name": "stdout",
     "output_type": "stream",
     "text": [
      "k1\n",
      "k2\n",
      "k3\n",
      "2\n",
      "4\n",
      "6\n"
     ]
    }
   ],
   "source": [
    "d = {'k1':2, 'k2':4, 'k3':6}\n",
    "for item in d.keys():\n",
    "    print(item)\n",
    "for item in d.values():\n",
    "    print(item)\n"
   ]
  },
  {
   "cell_type": "code",
   "execution_count": 57,
   "metadata": {},
   "outputs": [
    {
     "name": "stdout",
     "output_type": "stream",
     "text": [
      "key is k1 and value is 2\n",
      "key is k2 and value is 4\n",
      "key is k3 and value is 6\n"
     ]
    }
   ],
   "source": [
    "for item1, item2 in d.items():\n",
    "    print(f'key is {item1} and value is {item2}')\n",
    "    "
   ]
  },
  {
   "cell_type": "markdown",
   "metadata": {},
   "source": [
    "## `super()`\n",
    "\n",
    "Python's built-in `super()` function provides a shortcut for calling base classes, because it automatically follows Method Resolution Order.\n",
    "\n",
    "In its simplest form with single inheritance, `super()` can be used in place of the base class name.\n",
    "* Note that we don't pass `self` to `super().__init__()` as `super()` handles this automatically."
   ]
  },
  {
   "cell_type": "code",
   "execution_count": 58,
   "metadata": {},
   "outputs": [],
   "source": [
    "class MyBaseClass:\n",
    "    def __init__(self,x,y):\n",
    "        self.x = x\n",
    "        self.y = y\n",
    "    \n",
    "class MyDerivedClass(MyBaseClass):\n",
    "    def __init__(self,x,y,z):\n",
    "        super().__init__(x,y)\n",
    "        self.z = z\n",
    "    "
   ]
  },
  {
   "cell_type": "code",
   "execution_count": null,
   "metadata": {},
   "outputs": [],
   "source": []
  }
 ],
 "metadata": {
  "kernelspec": {
   "display_name": "Python 3",
   "language": "python",
   "name": "python3"
  },
  "language_info": {
   "codemirror_mode": {
    "name": "ipython",
    "version": 3
   },
   "file_extension": ".py",
   "mimetype": "text/x-python",
   "name": "python",
   "nbconvert_exporter": "python",
   "pygments_lexer": "ipython3",
   "version": "3.8.3"
  }
 },
 "nbformat": 4,
 "nbformat_minor": 4
}

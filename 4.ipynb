{
 "cells": [
  {
   "cell_type": "code",
   "execution_count": 2,
   "metadata": {},
   "outputs": [
    {
     "data": {
      "text/plain": [
       "True"
      ]
     },
     "execution_count": 2,
     "metadata": {},
     "output_type": "execute_result"
    }
   ],
   "source": [
    "1 < 3 > 2"
   ]
  },
  {
   "cell_type": "code",
   "execution_count": 3,
   "metadata": {},
   "outputs": [
    {
     "data": {
      "text/plain": [
       "True"
      ]
     },
     "execution_count": 3,
     "metadata": {},
     "output_type": "execute_result"
    }
   ],
   "source": [
    "3 < 6 < 11"
   ]
  },
  {
   "cell_type": "code",
   "execution_count": 8,
   "metadata": {},
   "outputs": [
    {
     "name": "stdout",
     "output_type": "stream",
     "text": [
      "[3, 4, 5, 6, 7, 8, 9, 10]\n",
      "[0, 3, 6, 9]\n"
     ]
    }
   ],
   "source": [
    "print(list(range(3,11)))\n",
    "print(list(range(0,12,3)))"
   ]
  },
  {
   "cell_type": "markdown",
   "metadata": {},
   "source": [
    "**Enumerate** is a very useful function to use with for loops. Let's imagine the following situation:"
   ]
  },
  {
   "cell_type": "code",
   "execution_count": 13,
   "metadata": {},
   "outputs": [
    {
     "name": "stdout",
     "output_type": "stream",
     "text": [
      "At index 0 the letter is a\n",
      "At index 1 the letter is b\n",
      "At index 2 the letter is c\n",
      "At index 0 the letter is p\n",
      "At index 1 the letter is q\n",
      "At index 2 the letter is r\n"
     ]
    }
   ],
   "source": [
    "index_count = 0\n",
    "\n",
    "for letter in 'abc':\n",
    "    print(\"At index {} the letter is {}\".format(index_count,letter))\n",
    "    index_count += 1\n",
    "#The usage of enumerate    \n",
    "for i, letter in enumerate('pqr'):\n",
    "    print(f\"At index {i} the letter is {letter}\")"
   ]
  },
  {
   "cell_type": "code",
   "execution_count": 5,
   "metadata": {},
   "outputs": [
    {
     "name": "stdout",
     "output_type": "stream",
     "text": [
      "[(0, 'a'), (1, 'b'), (2, 'c'), (3, 'd')]\n",
      "<zip object at 0x0000018DE75A2380>\n",
      "[(0, 'a'), (1, 'b'), (2, 'c'), (3, 'd')]\n",
      "The first is 0 and the seconde is a\n",
      "The first is 1 and the seconde is b\n",
      "The first is 2 and the seconde is c\n",
      "The first is 3 and the seconde is d\n"
     ]
    }
   ],
   "source": [
    "print(list(enumerate(\"abcd\")))\n",
    "\n",
    "list1 = [0,1,2,3]\n",
    "list2 = ['a', 'b', 'c', 'd']\n",
    "x = zip(list1,list2)\n",
    "print(x)\n",
    "print(list(x))\n",
    "for item1 , item2 in zip(list1,list2):\n",
    "    print(f\"The first is {item1} and the seconde is {item2}\")"
   ]
  },
  {
   "cell_type": "code",
   "execution_count": 6,
   "metadata": {},
   "outputs": [
    {
     "name": "stdout",
     "output_type": "stream",
     "text": [
      "False\n",
      "0\n",
      "3\n"
     ]
    }
   ],
   "source": [
    "print(5 in list1)\n",
    "print(min(list1))\n",
    "print(max(list1))"
   ]
  },
  {
   "cell_type": "code",
   "execution_count": 8,
   "metadata": {},
   "outputs": [
    {
     "name": "stdout",
     "output_type": "stream",
     "text": [
      "[3, 1, 2, 0]\n",
      "[2, 0, 3, 1]\n",
      "87\n"
     ]
    }
   ],
   "source": [
    "from random import randint, shuffle\n",
    "\n",
    "print(list1)\n",
    "shuffle(list1)\n",
    "print(list1)\n",
    "print(randint(0,100))"
   ]
  },
  {
   "cell_type": "code",
   "execution_count": 39,
   "metadata": {},
   "outputs": [
    {
     "name": "stdout",
     "output_type": "stream",
     "text": [
      "Enter Something into this box: 3\n",
      "<class 'str'>\n",
      "You entered: 3\n"
     ]
    }
   ],
   "source": [
    "x = input('Enter Something into this box: ')\n",
    "print(type(x))\n",
    "print(\"You entered: \" + x)"
   ]
  },
  {
   "cell_type": "code",
   "execution_count": 10,
   "metadata": {},
   "outputs": [
    {
     "name": "stdout",
     "output_type": "stream",
     "text": [
      "['W', 'o', 'r', 'd']\n",
      "[9, 16, 25, 36, 49]\n",
      "[9, 25, 49]\n"
     ]
    }
   ],
   "source": [
    "list1 = [x for x in \"Word\"]\n",
    "list2 = [i**2 for i in range(3,8)]\n",
    "list3 = [i**2 for i in range(3,8) if i % 2 != 0]\n",
    "print(list1)\n",
    "print(list2)\n",
    "print(list3)"
   ]
  },
  {
   "cell_type": "code",
   "execution_count": null,
   "metadata": {},
   "outputs": [],
   "source": []
  }
 ],
 "metadata": {
  "kernelspec": {
   "display_name": "Python 3",
   "language": "python",
   "name": "python3"
  },
  "language_info": {
   "codemirror_mode": {
    "name": "ipython",
    "version": 3
   },
   "file_extension": ".py",
   "mimetype": "text/x-python",
   "name": "python",
   "nbconvert_exporter": "python",
   "pygments_lexer": "ipython3",
   "version": "3.8.3"
  }
 },
 "nbformat": 4,
 "nbformat_minor": 4
}

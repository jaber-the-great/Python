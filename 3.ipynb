{
 "cells": [
  {
   "cell_type": "code",
   "execution_count": 7,
   "metadata": {},
   "outputs": [
    {
     "name": "stdout",
     "output_type": "stream",
     "text": [
      "1.75\n",
      "1\n",
      "3\n"
     ]
    }
   ],
   "source": [
    "print(7/4)\n",
    "print(7//4) ## Floor division\n",
    "print(7%4)"
   ]
  },
  {
   "cell_type": "code",
   "execution_count": 16,
   "metadata": {},
   "outputs": [
    {
     "name": "stdout",
     "output_type": "stream",
     "text": [
      "lo world\n",
      "Hello w\n",
      "lo w\n",
      "Hello world\n",
      "d\n",
      "rld\n",
      "Hello wo\n"
     ]
    }
   ],
   "source": [
    "s = \"Hello world\"\n",
    "print(s[3:])\n",
    "print(s[:7])\n",
    "print(s[3:7])\n",
    "print(s[:])\n",
    "print(s[-1])\n",
    "print(s[-3:])\n",
    "print(s[:-3])\n"
   ]
  },
  {
   "cell_type": "code",
   "execution_count": 17,
   "metadata": {},
   "outputs": [
    {
     "name": "stdout",
     "output_type": "stream",
     "text": [
      "Hello world\n",
      "Hlowrd\n",
      "dlrow olleH\n"
     ]
    }
   ],
   "source": [
    "#s[start:stop:step]\n",
    "print(s[::1])\n",
    "print(s[::2])\n",
    "print(s[::-1])"
   ]
  },
  {
   "cell_type": "code",
   "execution_count": 18,
   "metadata": {},
   "outputs": [
    {
     "ename": "TypeError",
     "evalue": "'str' object does not support item assignment",
     "output_type": "error",
     "traceback": [
      "\u001b[1;31m---------------------------------------------------------------------------\u001b[0m",
      "\u001b[1;31mTypeError\u001b[0m                                 Traceback (most recent call last)",
      "\u001b[1;32m<ipython-input-18-8df86aab168d>\u001b[0m in \u001b[0;36m<module>\u001b[1;34m\u001b[0m\n\u001b[0;32m      1\u001b[0m \u001b[1;31m# strings are immutable\u001b[0m\u001b[1;33m\u001b[0m\u001b[1;33m\u001b[0m\u001b[1;33m\u001b[0m\u001b[0m\n\u001b[1;32m----> 2\u001b[1;33m \u001b[0ms\u001b[0m\u001b[1;33m[\u001b[0m\u001b[1;36m0\u001b[0m\u001b[1;33m]\u001b[0m \u001b[1;33m=\u001b[0m \u001b[1;34m'x'\u001b[0m\u001b[1;33m\u001b[0m\u001b[1;33m\u001b[0m\u001b[0m\n\u001b[0m",
      "\u001b[1;31mTypeError\u001b[0m: 'str' object does not support item assignment"
     ]
    }
   ],
   "source": [
    "# strings are immutable \n",
    "s[0] = 'x'"
   ]
  },
  {
   "cell_type": "code",
   "execution_count": 22,
   "metadata": {},
   "outputs": [
    {
     "name": "stdout",
     "output_type": "stream",
     "text": [
      "USA USA USA USA USA USA USA USA USA USA \n"
     ]
    }
   ],
   "source": [
    "letter = 'USA '*10\n",
    "print(letter)"
   ]
  },
  {
   "cell_type": "code",
   "execution_count": 32,
   "metadata": {},
   "outputs": [
    {
     "name": "stdout",
     "output_type": "stream",
     "text": [
      "['this', 'is', 'really', 'GreaT']\n",
      "this is really Grea\n"
     ]
    }
   ],
   "source": [
    "s = \"this is really GreaT\"\n",
    "print(s.split())\n",
    "print(s.strip('T'))"
   ]
  },
  {
   "cell_type": "code",
   "execution_count": 33,
   "metadata": {},
   "outputs": [
    {
     "data": {
      "text/plain": [
       "'instert another string Yo Man in the bracket'"
      ]
     },
     "execution_count": 33,
     "metadata": {},
     "output_type": "execute_result"
    }
   ],
   "source": [
    "\"insert another string {} in the bracket\".format(\"Yo Man\")"
   ]
  },
  {
   "cell_type": "code",
   "execution_count": 36,
   "metadata": {},
   "outputs": [
    {
     "name": "stdout",
     "output_type": "stream",
     "text": [
      "The student Ali has number 43\n",
      "The student Ali has number 43\n"
     ]
    }
   ],
   "source": [
    "name = \"Ali\"\n",
    "number = 43\n",
    "#newest version\n",
    "print(f\"The student {name} has number {number}\")\n",
    "#2nd versoin\n",
    "#use .format ... forget about it\n",
    "#first version\n",
    "print(\"The student %s has number %d\" %(name,number))\n",
    "#google for alignment stuff"
   ]
  },
  {
   "cell_type": "code",
   "execution_count": 50,
   "metadata": {},
   "outputs": [
    {
     "name": "stdout",
     "output_type": "stream",
     "text": [
      "['one', 'two', 'three']\n",
      "['one', 'two', 'three', 4, 5, 'one', 'two', 'three', 4, 5]\n",
      "['one', 'two', 'three', 4, 5, 'new item']\n",
      "[5, 4, 'three', 'two', 'one']\n",
      "['one', 'two', 'three', 4, 5]\n"
     ]
    }
   ],
   "source": [
    "#indexing list is just like strings \n",
    "my_list = ['one','two','three',4,5]\n",
    "print(my_list[:3])\n",
    "print(my_list * 2)\n",
    "#concat to list just like str\n",
    "print(my_list + ['new item'] )\n",
    "my_list.reverse()\n",
    "print(my_list)\n",
    "print(my_list[::-1])"
   ]
  },
  {
   "cell_type": "code",
   "execution_count": 8,
   "metadata": {},
   "outputs": [
    {
     "name": "stdout",
     "output_type": "stream",
     "text": [
      "5\n",
      "['one', 'two', 'three', 4]\n",
      "one\n",
      "['two', 'three', 4]\n"
     ]
    }
   ],
   "source": [
    "#pop removes the last index(like stack)\n",
    "my_list = ['one','two','three',4,5]\n",
    "print(my_list.pop())\n",
    "print(my_list)\n",
    "#pop by index, can implement a queue\n",
    "print(my_list.pop(0))\n",
    "print(my_list)\n"
   ]
  },
  {
   "cell_type": "code",
   "execution_count": 53,
   "metadata": {},
   "outputs": [
    {
     "name": "stdout",
     "output_type": "stream",
     "text": [
      "[1, 3, 4, 9, 13, 17, 53]\n"
     ]
    }
   ],
   "source": [
    "my_list = [13,53,1, 17, 4,3,9]\n",
    "my_list.sort()\n",
    "print(my_list)"
   ]
  },
  {
   "cell_type": "code",
   "execution_count": 54,
   "metadata": {},
   "outputs": [
    {
     "name": "stdout",
     "output_type": "stream",
     "text": [
      "[[1, 4, 11], [5, 7, 15], [3, 5, 14]]\n",
      "[4, 7, 5]\n"
     ]
    }
   ],
   "source": [
    "first = [1,4, 11]\n",
    "sec = [5,7,15]\n",
    "third = [3,5,14]\n",
    "matrix = [first,sec,third]\n",
    "sec_col = [row[1] for row in matrix ]\n",
    "print(matrix)\n",
    "print(sec_col)"
   ]
  },
  {
   "cell_type": "code",
   "execution_count": 60,
   "metadata": {},
   "outputs": [
    {
     "name": "stdout",
     "output_type": "stream",
     "text": [
      "33\n",
      "['item0', 'item1']\n",
      "73\n"
     ]
    }
   ],
   "source": [
    "my_dict = {'key1':123,'key2':[12,23,33],'key3':['item0','item1']}\n",
    "\n",
    "print(my_dict['key2'][2])\n",
    "print(my_dict['key3'])\n",
    "my_dict['key1'] = my_dict['key1'] - 50\n",
    "print(my_dict['key1'])"
   ]
  },
  {
   "cell_type": "code",
   "execution_count": 1,
   "metadata": {},
   "outputs": [
    {
     "name": "stdout",
     "output_type": "stream",
     "text": [
      "{'name': 'Jaber', 'age': 26, 7: 15}\n",
      "It is 15 and also 26\n",
      "dict_keys(['name', 'age', 7])\n",
      "dict_values(['Jaber', 26, 15])\n",
      "dict_items([('name', 'Jaber'), ('age', 26), (7, 15)])\n"
     ]
    }
   ],
   "source": [
    "d = {}\n",
    "d['name']= 'Jaber'\n",
    "d['age'] = 26\n",
    "d[7]=15\n",
    "print(d)\n",
    "print(f\"It is {d[7]} and also {d['age']}\")\n",
    "print(d.keys())\n",
    "print(d.values())\n",
    "print(d.items())"
   ]
  },
  {
   "cell_type": "markdown",
   "metadata": {},
   "source": [
    "In Python tuples are very similar to lists, however, unlike lists they are immutable meaning they can not be changed. You would use tuples to present things that shouldn't be changed, such as days of the week, or dates on a calendar."
   ]
  },
  {
   "cell_type": "code",
   "execution_count": 82,
   "metadata": {},
   "outputs": [
    {
     "name": "stdout",
     "output_type": "stream",
     "text": [
      "(1, 5, 44, 11, 'here', 'there', 'here', 11)\n",
      "1\n",
      "(11, 'here', 'there', 'here', 11, 44, 5, 1)\n",
      "4\n",
      "2\n"
     ]
    }
   ],
   "source": [
    "my_tuple = (1,5,44,11,\"here\", \"there\",\"here\",11)\n",
    "print(my_tuple)\n",
    "\n",
    "print(my_tuple[0] )\n",
    "print(my_tuple[::-1])\n",
    "print(my_tuple.index(\"here\"))\n",
    "print(my_tuple.count(\"here\"))"
   ]
  },
  {
   "cell_type": "code",
   "execution_count": 83,
   "metadata": {},
   "outputs": [
    {
     "ename": "TypeError",
     "evalue": "'tuple' object does not support item assignment",
     "output_type": "error",
     "traceback": [
      "\u001b[1;31m---------------------------------------------------------------------------\u001b[0m",
      "\u001b[1;31mTypeError\u001b[0m                                 Traceback (most recent call last)",
      "\u001b[1;32m<ipython-input-83-af4bc8b42ee5>\u001b[0m in \u001b[0;36m<module>\u001b[1;34m\u001b[0m\n\u001b[1;32m----> 1\u001b[1;33m \u001b[0mmy_tuple\u001b[0m\u001b[1;33m[\u001b[0m\u001b[1;36m0\u001b[0m\u001b[1;33m]\u001b[0m \u001b[1;33m=\u001b[0m \u001b[1;36m15\u001b[0m\u001b[1;33m\u001b[0m\u001b[1;33m\u001b[0m\u001b[0m\n\u001b[0m",
      "\u001b[1;31mTypeError\u001b[0m: 'tuple' object does not support item assignment"
     ]
    }
   ],
   "source": [
    "#If in your program you are passing around an object and need to \n",
    "#make sure it does not get changed, then a tuple becomes your solution. \n",
    "#It provides a convenient source of data integrity.\n",
    "my_tuple[0] = 15"
   ]
  },
  {
   "cell_type": "code",
   "execution_count": 4,
   "metadata": {},
   "outputs": [
    {
     "name": "stdout",
     "output_type": "stream",
     "text": [
      "{15}\n",
      "<class 'set'>\n",
      "{12, 'temp'}\n",
      "{1, 2, 3, 4, 5, 'Item'}\n",
      "1\n",
      "2\n"
     ]
    }
   ],
   "source": [
    "x = set()\n",
    "y = {15}\n",
    "print(y)\n",
    "print(type(y))\n",
    "x.add(12)\n",
    "x.add(\"temp\")\n",
    "x.add(12)\n",
    "print(x)\n",
    "my_list = [\"Item\",5,5,5,5,5,1,2,3,1,2,3,4]\n",
    "x = set(my_list)\n",
    "print(x)\n",
    "print(x.pop())\n",
    "print(x.pop())\n"
   ]
  },
  {
   "cell_type": "code",
   "execution_count": 102,
   "metadata": {},
   "outputs": [
    {
     "name": "stdout",
     "output_type": "stream",
     "text": [
      "None\n"
     ]
    }
   ],
   "source": [
    "#We can use None as a placeholder for an object that \n",
    "#we don't want to reassign yet:\n",
    "b = None\n",
    "print(b)"
   ]
  },
  {
   "cell_type": "code",
   "execution_count": 133,
   "metadata": {},
   "outputs": [],
   "source": [
    "# Add a second argument to the function, 'w' which stands for write.\n",
    "# Passing 'w+' lets us read and write to the file\n",
    "myFile = open(\"test.txt\", \"w+\")\n",
    "myFile.write(\"This is the first line\\nThis is the second line\\n\")\n",
    "myFile.write(\"This is the third line\")\n",
    "\n",
    "myFile.close()"
   ]
  },
  {
   "cell_type": "code",
   "execution_count": 141,
   "metadata": {},
   "outputs": [
    {
     "name": "stdout",
     "output_type": "stream",
     "text": [
      "['This is the first line\\n', 'This is the second line\\n', 'This is the third line']\n",
      "we reached the end of file!\n",
      "This is the first line\n",
      "This is the second line\n",
      "This is the third line\n",
      "Went back to the beginning\n"
     ]
    }
   ],
   "source": [
    "myFile = open(\"test.txt\")\n",
    "print(myFile.readlines())\n",
    "print(myFile.readline() + \"we reached the end of file!\")\n",
    "myFile.seek(0)\n",
    "print(myFile.read()+ \"\\nWent back to the beginning\")\n",
    "# always do this when you're done with a file\n",
    "myFile.close()"
   ]
  },
  {
   "cell_type": "code",
   "execution_count": 142,
   "metadata": {},
   "outputs": [
    {
     "name": "stdout",
     "output_type": "stream",
     "text": [
      "This is the first line\n",
      "\n",
      "This is the second line\n",
      "\n",
      "This is the third line\n"
     ]
    }
   ],
   "source": [
    "# Pertaining to the first point above\n",
    "for asdf in open('test.txt'):\n",
    "    print(asdf)"
   ]
  },
  {
   "cell_type": "code",
   "execution_count": 1,
   "metadata": {},
   "outputs": [
    {
     "name": "stdout",
     "output_type": "stream",
     "text": [
      "Insert a number7\n",
      "7\n"
     ]
    }
   ],
   "source": [
    "x = input(\"Insert a number\")\n",
    "print(x)"
   ]
  },
  {
   "cell_type": "code",
   "execution_count": null,
   "metadata": {},
   "outputs": [],
   "source": []
  }
 ],
 "metadata": {
  "kernelspec": {
   "display_name": "Python 3",
   "language": "python",
   "name": "python3"
  },
  "language_info": {
   "codemirror_mode": {
    "name": "ipython",
    "version": 3
   },
   "file_extension": ".py",
   "mimetype": "text/x-python",
   "name": "python",
   "nbconvert_exporter": "python",
   "pygments_lexer": "ipython3",
   "version": "3.8.3"
  }
 },
 "nbformat": 4,
 "nbformat_minor": 4
}
